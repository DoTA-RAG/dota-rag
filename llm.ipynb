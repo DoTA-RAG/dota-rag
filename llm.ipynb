{
 "cells": [
  {
   "cell_type": "code",
   "execution_count": 16,
   "metadata": {},
   "outputs": [],
   "source": [
    "from ai71 import AI71\n",
    "from openai import AsyncOpenAI\n",
    "import re, ast\n",
    "from collections import Counter\n",
    "import os\n",
    "\n",
    "client = AsyncOpenAI(\n",
    "    base_url=\"https://api.ai71.ai/v1/\",\n",
    "    api_key=os.environ['AI71_API_KEY']\n",
    ")\n"
   ]
  },
  {
   "cell_type": "code",
   "execution_count": 17,
   "metadata": {},
   "outputs": [],
   "source": [
    "votes = 3\n",
    "\n",
    "\n",
    "resp = await client.chat.completions.create(\n",
    "    model=\"tiiuae/falcon3-10b-instruct\",\n",
    "    max_tokens=128,\n",
    "    temperature=0.6,\n",
    "    n=votes,\n",
    "    messages=[\n",
    "        {\"role\": \"system\", \"content\": \"Hello!\"},\n",
    "    ],\n",
    ")\n"
   ]
  },
  {
   "cell_type": "code",
   "execution_count": 18,
   "metadata": {},
   "outputs": [
    {
     "data": {
      "text/plain": [
       "ChatCompletion(id='RequestType.CHAT_COMPLETION-tiiuae/falcon3-10b-instruct-faa41f5f-c73f-4522-a7ad-70acd65c5ef5-ai71-api-95f50dd0-98ef-4315-99f7-e3133be75174-28037d25-a989-48dc-bdcd-ec409403b422', choices=[Choice(finish_reason='stop', index=0, logprobs=None, message=ChatCompletionMessage(content='Hello! How can I assist you today?', refusal=None, role='assistant', annotations=None, audio=None, function_call=None, tool_calls=None)), Choice(finish_reason='stop', index=1, logprobs=None, message=ChatCompletionMessage(content='Hello! How can I assist you today? If you have any questions or need information on a particular topic, feel free to ask.', refusal=None, role='assistant', annotations=None, audio=None, function_call=None, tool_calls=None)), Choice(finish_reason='stop', index=2, logprobs=None, message=ChatCompletionMessage(content='Hello! How can I help you today?', refusal=None, role='assistant', annotations=None, audio=None, function_call=None, tool_calls=None))], created=1746869282, model='tiiuae/falcon3-10b-instruct', object='chat.completion', service_tier=None, system_fingerprint=None, usage=CompletionUsage(completion_tokens=48, prompt_tokens=13, total_tokens=61, completion_tokens_details=None, prompt_tokens_details=None))"
      ]
     },
     "execution_count": 18,
     "metadata": {},
     "output_type": "execute_result"
    }
   ],
   "source": [
    "resp"
   ]
  },
  {
   "cell_type": "code",
   "execution_count": 19,
   "metadata": {},
   "outputs": [
    {
     "data": {
      "text/plain": [
       "[Choice(finish_reason='stop', index=0, logprobs=None, message=ChatCompletionMessage(content='Hello! How can I assist you today?', refusal=None, role='assistant', annotations=None, audio=None, function_call=None, tool_calls=None)),\n",
       " Choice(finish_reason='stop', index=1, logprobs=None, message=ChatCompletionMessage(content='Hello! How can I assist you today? If you have any questions or need information on a particular topic, feel free to ask.', refusal=None, role='assistant', annotations=None, audio=None, function_call=None, tool_calls=None)),\n",
       " Choice(finish_reason='stop', index=2, logprobs=None, message=ChatCompletionMessage(content='Hello! How can I help you today?', refusal=None, role='assistant', annotations=None, audio=None, function_call=None, tool_calls=None))]"
      ]
     },
     "execution_count": 19,
     "metadata": {},
     "output_type": "execute_result"
    }
   ],
   "source": [
    "resp.choices"
   ]
  },
  {
   "cell_type": "code",
   "execution_count": null,
   "metadata": {},
   "outputs": [],
   "source": []
  }
 ],
 "metadata": {
  "kernelspec": {
   "display_name": "liverag",
   "language": "python",
   "name": "python3"
  },
  "language_info": {
   "codemirror_mode": {
    "name": "ipython",
    "version": 3
   },
   "file_extension": ".py",
   "mimetype": "text/x-python",
   "name": "python",
   "nbconvert_exporter": "python",
   "pygments_lexer": "ipython3",
   "version": "3.12.9"
  }
 },
 "nbformat": 4,
 "nbformat_minor": 2
}
