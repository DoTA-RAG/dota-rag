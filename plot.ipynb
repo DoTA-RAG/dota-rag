{
 "cells": [
  {
   "cell_type": "code",
   "execution_count": 6,
   "metadata": {},
   "outputs": [],
   "source": [
    "import pandas as pd\n",
    "import os\n",
    "import glob"
   ]
  },
  {
   "cell_type": "code",
   "execution_count": 7,
   "metadata": {},
   "outputs": [
    {
     "data": {
      "text/plain": [
       "['data/eval_collection/Snowflake+Routing/testset-50q-eval.jsonl',\n",
       " 'data/eval_collection/Snowflake+Routing+Prune+Rerank/testset-50q-eval.jsonl']"
      ]
     },
     "execution_count": 7,
     "metadata": {},
     "output_type": "execute_result"
    }
   ],
   "source": [
    "eval_jsonl_list = glob.glob(\"data/eval_collection/*/*eval.jsonl\")\n",
    "eval_jsonl_list.sort(reverse=True)\n",
    "eval_jsonl_list"
   ]
  },
  {
   "cell_type": "code",
   "execution_count": 14,
   "metadata": {},
   "outputs": [],
   "source": [
    "sumdf_list = []\n",
    "for jsonl in eval_jsonl_list:\n",
    "    df = pd.read_json(jsonl, lines=True)\n",
    "    # df['relevance_correct'] = (df['relevance'] >= 1).astype(int)\n",
    "    sumdf = df[['faithfulness_correct','relevance_correct']].mean()\n",
    "    sumdf['collection_name'] = jsonl.split(\"/\")[-2]\n",
    "    sumdf_list.append(sumdf)\n",
    "sumdf_list = pd.DataFrame(sumdf_list)"
   ]
  },
  {
   "cell_type": "code",
   "execution_count": 15,
   "metadata": {},
   "outputs": [
    {
     "data": {
      "text/html": [
       "<div>\n",
       "<style scoped>\n",
       "    .dataframe tbody tr th:only-of-type {\n",
       "        vertical-align: middle;\n",
       "    }\n",
       "\n",
       "    .dataframe tbody tr th {\n",
       "        vertical-align: top;\n",
       "    }\n",
       "\n",
       "    .dataframe thead th {\n",
       "        text-align: right;\n",
       "    }\n",
       "</style>\n",
       "<table border=\"1\" class=\"dataframe\">\n",
       "  <thead>\n",
       "    <tr style=\"text-align: right;\">\n",
       "      <th></th>\n",
       "      <th>faithfulness_correct</th>\n",
       "      <th>relevance_correct</th>\n",
       "      <th>collection_name</th>\n",
       "    </tr>\n",
       "  </thead>\n",
       "  <tbody>\n",
       "    <tr>\n",
       "      <th>0</th>\n",
       "      <td>0.571429</td>\n",
       "      <td>0.836735</td>\n",
       "      <td>Snowflake+Routing</td>\n",
       "    </tr>\n",
       "    <tr>\n",
       "      <th>1</th>\n",
       "      <td>0.714286</td>\n",
       "      <td>0.846939</td>\n",
       "      <td>Snowflake+Routing+Prune+Rerank</td>\n",
       "    </tr>\n",
       "  </tbody>\n",
       "</table>\n",
       "</div>"
      ],
      "text/plain": [
       "   faithfulness_correct  relevance_correct                 collection_name\n",
       "0              0.571429           0.836735               Snowflake+Routing\n",
       "1              0.714286           0.846939  Snowflake+Routing+Prune+Rerank"
      ]
     },
     "execution_count": 15,
     "metadata": {},
     "output_type": "execute_result"
    }
   ],
   "source": [
    "sumdf_list"
   ]
  },
  {
   "cell_type": "code",
   "execution_count": null,
   "metadata": {},
   "outputs": [
    {
     "data": {
      "text/plain": [
       "<matplotlib.legend.Legend at 0x13c8f5c40>"
      ]
     },
     "execution_count": 18,
     "metadata": {},
     "output_type": "execute_result"
    },
    {
     "data": {
      "image/png": "[encoded data removed]",
      "text/plain": [
       "<Figure size 640x480 with 1 Axes>"
      ]
     },
     "metadata": {},
     "output_type": "display_data"
    }
   ],
   "source": [
    "ax = sumdf_list.set_index(\"collection_name\").T.plot.barh()\n",
    "for container in ax.containers:\n",
    "    ax.bar_label(container, fmt=\"%.2g\")\n",
    "    \n",
    "ax.set_xlim(0, 1)"
   ]
  },
  {
   "cell_type": "code",
   "execution_count": null,
   "metadata": {},
   "outputs": [],
   "source": []
  }
 ],
 "metadata": {
  "kernelspec": {
   "display_name": "base",
   "language": "python",
   "name": "python3"
  },
  "language_info": {
   "codemirror_mode": {
    "name": "ipython",
    "version": 3
   },
   "file_extension": ".py",
   "mimetype": "text/x-python",
   "name": "python",
   "nbconvert_exporter": "python",
   "pygments_lexer": "ipython3",
   "version": "3.12.2"
  }
 },
 "nbformat": 4,
 "nbformat_minor": 2
}
