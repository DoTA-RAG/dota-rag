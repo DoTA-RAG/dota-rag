{
 "cells": [
  {
   "cell_type": "code",
   "execution_count": 1,
   "metadata": {},
   "outputs": [],
   "source": [
    "import pandas as pd\n",
    "import os \n",
    "import glob"
   ]
  },
  {
   "cell_type": "code",
   "execution_count": 7,
   "metadata": {},
   "outputs": [
    {
     "data": {
      "text/plain": [
       "['data/eval_output/baseline/evaluation_results.csv',\n",
       " 'data/eval_output/Snowflake/evaluation_results.csv',\n",
       " 'data/eval_output/Snowflake+Routing/evaluation_results.csv',\n",
       " 'data/eval_output/Snowflake+Routing+FC/evaluation_results.csv']"
      ]
     },
     "execution_count": 7,
     "metadata": {},
     "output_type": "execute_result"
    }
   ],
   "source": [
    "example_csvs = glob.glob(\"data/eval_output/*/data_morgana_examples_live*.jsonl\")\n",
    "eval_csvs = glob.glob(\"data/eval_output/*/evaluation_*.csv\")\n",
    "eval_csvs.sort(reverse=True)\n",
    "example_csvs.sort(reverse=True)\n",
    "eval_csvs"
   ]
  },
  {
   "cell_type": "code",
   "execution_count": 19,
   "metadata": {},
   "outputs": [],
   "source": [
    "for k, v in (zip(example_csvs,eval_csvs)):\n",
    "    ex = pd.read_csv(k)\n",
    "    ev = pd.read_csv(v)\n",
    "    m = pd.concat([ex, ev], axis=1)"
   ]
  },
  {
   "cell_type": "code",
   "execution_count": 24,
   "metadata": {},
   "outputs": [],
   "source": [
    "m.to_csv('data/eval_output/Snowflake+Routing+FC/merge-for-eda.csv', index=False)"
   ]
  },
  {
   "cell_type": "code",
   "execution_count": null,
   "metadata": {},
   "outputs": [],
   "source": []
  }
 ],
 "metadata": {
  "kernelspec": {
   "display_name": "base",
   "language": "python",
   "name": "python3"
  },
  "language_info": {
   "codemirror_mode": {
    "name": "ipython",
    "version": 3
   },
   "file_extension": ".py",
   "mimetype": "text/x-python",
   "name": "python",
   "nbconvert_exporter": "python",
   "pygments_lexer": "ipython3",
   "version": "3.12.2"
  }
 },
 "nbformat": 4,
 "nbformat_minor": 2
}
