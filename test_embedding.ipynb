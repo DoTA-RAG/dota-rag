{
 "cells": [
  {
   "cell_type": "code",
   "execution_count": 95,
   "metadata": {},
   "outputs": [],
   "source": [
    "import os\n",
    "import pandas as pd\n",
    "\n",
    "from pinecone import Pinecone\n",
    "\n",
    "PINECONE_INDEX_NAME=\"fineweb10bt-768-arctic-m-v2-weborganizer-full\"\n",
    "PINECONE_API_KEY=\"pcsk_2JLk5N_HWFfTetUnDpNrFCXiGqqG3MszTXWuvXRftPwd7GN6FKFmae3eD8zoNhXMUgkJgF\"\n",
    "pc = Pinecone(api_key=PINECONE_API_KEY)\n",
    "\n",
    "# To get the unique host for an index, \n",
    "# see https://docs.pinecone.io/guides/data/target-an-index\n",
    "index = pc.Index(PINECONE_INDEX_NAME)"
   ]
  },
  {
   "cell_type": "code",
   "execution_count": 1,
   "metadata": {},
   "outputs": [
    {
     "name": "stderr",
     "output_type": "stream",
     "text": [
      "/opt/homebrew/Caskroom/miniconda/base/envs/liverag/lib/python3.12/site-packages/pinecone/data/index.py:1: TqdmWarning: IProgress not found. Please update jupyter and ipywidgets. See https://ipywidgets.readthedocs.io/en/stable/user_install.html\n",
      "  from tqdm.autonotebook import tqdm\n"
     ]
    }
   ],
   "source": [
    "from rag import pinecone_utils"
   ]
  },
  {
   "cell_type": "code",
   "execution_count": 91,
   "metadata": {},
   "outputs": [],
   "source": [
    "from rag import embedding"
   ]
  },
  {
   "cell_type": "code",
   "execution_count": 97,
   "metadata": {},
   "outputs": [],
   "source": [
    "from multiprocessing.pool import ThreadPool\n",
    "\n",
    "# ─── BATCH-QUERY SUPPORT ──────────────────────────────────────────────────\n",
    "def batch_query_pinecone(\n",
    "    vectors: list[str],\n",
    "    top_k: int = 5,\n",
    "    namespaces: str | list[str] = \"default\",\n",
    "    n_parallel: int = 10,\n",
    ") -> list[dict]:\n",
    "    \"\"\"\n",
    "    Query Pinecone for each query in parallel.\n",
    "    Returns a list of result dicts.\n",
    "    \"\"\"\n",
    "    if namespaces == \"default\":\n",
    "        namespaces = pinecone_utils.list_namespaces()\n",
    "    elif isinstance(namespaces, str):\n",
    "        namespaces = [namespaces]\n",
    "\n",
    "    # Precompute all embeddings\n",
    "    def _worker(vec):\n",
    "        return index.query_namespaces(\n",
    "            vector=vec,\n",
    "            top_k=top_k,\n",
    "            namespaces=namespaces,\n",
    "            metric=\"cosine\",\n",
    "            include_metadata=True,\n",
    "            show_progress=False,\n",
    "            include_values=True,\n",
    "        )\n",
    "\n",
    "    with ThreadPool(n_parallel) as pool:\n",
    "        return pool.map(_worker, vectors)\n"
   ]
  },
  {
   "cell_type": "code",
   "execution_count": 99,
   "metadata": {},
   "outputs": [
    {
     "name": "stdout",
     "output_type": "stream",
     "text": [
      "done emb!\n",
      "done search!\n"
     ]
    }
   ],
   "source": [
    "df = pd.read_json(\"/Users/saksornr/Code/hackathon/liverag-dev/dota-rag/data/eval_collection/Snowflake100+Routing+Prune20+Rerank10/testset-50q-result.jsonl\", lines=True)\n",
    "embeddings = embedding.batch_embed_queries(df['question'].tolist())\n",
    "print(\"done emb!\")\n",
    "df['search'] = batch_query_pinecone(embeddings, top_k=5, n_parallel=8)\n",
    "print(\"done search!\")"
   ]
  },
  {
   "cell_type": "code",
   "execution_count": 105,
   "metadata": {},
   "outputs": [],
   "source": [
    "def get_id(x):\n",
    "    return [i['id'].split(\"::\")[0].replace(\"doc-\", \"\") for i in x['matches']]\n",
    "\n",
    "def id_hit(x):\n",
    "    doc_id = x['doc_id']\n",
    "    return any([doc_id == i for i in x['search_id']])\n",
    "\n",
    "def id_hit2(x):\n",
    "    doc_id = x['doc_id']\n",
    "    return any([doc_id == i for i in x['passage_id']])\n",
    "\n",
    "df = df.dropna()\n",
    "df['search_id'] = df['search'].map(get_id)\n",
    "df['passage_id'] = df['passages'].map(lambda x: [i['doc_IDs'][0] for i in x])\n",
    "df['is_search_hit'] = df.apply(id_hit, axis=1)\n",
    "df['is_passage_hit'] = df.apply(id_hit2, axis=1)\n",
    "df.to_csv('compare_search.csv', index=False)"
   ]
  },
  {
   "cell_type": "code",
   "execution_count": 121,
   "metadata": {},
   "outputs": [
    {
     "data": {
      "text/plain": [
       "['data/eval_collection/Snowflake500+Routing+Prune100+Rerank20/testset-50q-eval.jsonl',\n",
       " 'data/eval_collection/Snowflake50+Routing+Prune20+Rerank10/testset-50q-eval.jsonl',\n",
       " 'data/eval_collection/Snowflake100+Routing+VRSD+Prune20+Rerank10/testset-50q-eval.jsonl',\n",
       " 'data/eval_collection/Snowflake100+Routing+Prune20+Rerank10_v2/testset-50q-eval.jsonl',\n",
       " 'data/eval_collection/Snowflake100+Routing+Prune20+Rerank10/testset-50q-eval.jsonl',\n",
       " 'data/eval_collection/Snowflake100+Routing+Prune20+Rerank10+no_refine/testset-50q-eval.jsonl',\n",
       " 'data/eval_collection/Snowflake10+Routing/testset-50q-eval.jsonl']"
      ]
     },
     "execution_count": 121,
     "metadata": {},
     "output_type": "execute_result"
    }
   ],
   "source": [
    "import glob\n",
    "result_jsonl_list = glob.glob(\"data/eval_collection/*/*result.jsonl\")\n",
    "result_jsonl_list.sort(reverse=True)\n",
    "eval_jsonl_list = glob.glob(\"data/eval_collection/*/*eval.jsonl\")\n",
    "eval_jsonl_list.sort(reverse=True)\n",
    "eval_jsonl_list"
   ]
  },
  {
   "cell_type": "code",
   "execution_count": 140,
   "metadata": {},
   "outputs": [
    {
     "data": {
      "text/html": [
       "<div>\n",
       "<style scoped>\n",
       "    .dataframe tbody tr th:only-of-type {\n",
       "        vertical-align: middle;\n",
       "    }\n",
       "\n",
       "    .dataframe tbody tr th {\n",
       "        vertical-align: top;\n",
       "    }\n",
       "\n",
       "    .dataframe thead th {\n",
       "        text-align: right;\n",
       "    }\n",
       "</style>\n",
       "<table border=\"1\" class=\"dataframe\">\n",
       "  <thead>\n",
       "    <tr style=\"text-align: right;\">\n",
       "      <th></th>\n",
       "      <th>faithfulness_correct</th>\n",
       "      <th>relevance_correct</th>\n",
       "      <th>hit-rate</th>\n",
       "    </tr>\n",
       "    <tr>\n",
       "      <th>collection_name</th>\n",
       "      <th></th>\n",
       "      <th></th>\n",
       "      <th></th>\n",
       "    </tr>\n",
       "  </thead>\n",
       "  <tbody>\n",
       "    <tr>\n",
       "      <th>Snowflake10+Routing</th>\n",
       "      <td>0.562500</td>\n",
       "      <td>0.833333</td>\n",
       "      <td>0.367347</td>\n",
       "    </tr>\n",
       "    <tr>\n",
       "      <th>Snowflake500+Routing+Prune100+Rerank20</th>\n",
       "      <td>0.659574</td>\n",
       "      <td>0.797872</td>\n",
       "      <td>0.489796</td>\n",
       "    </tr>\n",
       "    <tr>\n",
       "      <th>Snowflake100+Routing+VRSD+Prune20+Rerank10</th>\n",
       "      <td>0.708333</td>\n",
       "      <td>0.833333</td>\n",
       "      <td>0.428571</td>\n",
       "    </tr>\n",
       "    <tr>\n",
       "      <th>Snowflake50+Routing+Prune20+Rerank10</th>\n",
       "      <td>0.729167</td>\n",
       "      <td>0.843750</td>\n",
       "      <td>0.428571</td>\n",
       "    </tr>\n",
       "    <tr>\n",
       "      <th>Snowflake100+Routing+Prune20+Rerank10_v2</th>\n",
       "      <td>0.765957</td>\n",
       "      <td>0.819149</td>\n",
       "      <td>0.428571</td>\n",
       "    </tr>\n",
       "    <tr>\n",
       "      <th>Snowflake100+Routing+Prune20+Rerank10</th>\n",
       "      <td>0.812500</td>\n",
       "      <td>0.812500</td>\n",
       "      <td>0.428571</td>\n",
       "    </tr>\n",
       "    <tr>\n",
       "      <th>Snowflake100+Routing+Prune20+Rerank10+no_refine</th>\n",
       "      <td>0.829787</td>\n",
       "      <td>0.872340</td>\n",
       "      <td>0.448980</td>\n",
       "    </tr>\n",
       "  </tbody>\n",
       "</table>\n",
       "</div>"
      ],
      "text/plain": [
       "                                                 faithfulness_correct  \\\n",
       "collection_name                                                         \n",
       "Snowflake10+Routing                                          0.562500   \n",
       "Snowflake500+Routing+Prune100+Rerank20                       0.659574   \n",
       "Snowflake100+Routing+VRSD+Prune20+Rerank10                   0.708333   \n",
       "Snowflake50+Routing+Prune20+Rerank10                         0.729167   \n",
       "Snowflake100+Routing+Prune20+Rerank10_v2                     0.765957   \n",
       "Snowflake100+Routing+Prune20+Rerank10                        0.812500   \n",
       "Snowflake100+Routing+Prune20+Rerank10+no_refine              0.829787   \n",
       "\n",
       "                                                 relevance_correct  hit-rate  \n",
       "collection_name                                                               \n",
       "Snowflake10+Routing                                       0.833333  0.367347  \n",
       "Snowflake500+Routing+Prune100+Rerank20                    0.797872  0.489796  \n",
       "Snowflake100+Routing+VRSD+Prune20+Rerank10                0.833333  0.428571  \n",
       "Snowflake50+Routing+Prune20+Rerank10                      0.843750  0.428571  \n",
       "Snowflake100+Routing+Prune20+Rerank10_v2                  0.819149  0.428571  \n",
       "Snowflake100+Routing+Prune20+Rerank10                     0.812500  0.428571  \n",
       "Snowflake100+Routing+Prune20+Rerank10+no_refine           0.872340  0.448980  "
      ]
     },
     "execution_count": 140,
     "metadata": {},
     "output_type": "execute_result"
    }
   ],
   "source": [
    "sumdf_list = []\n",
    "for k, v in (zip(result_jsonl_list,eval_jsonl_list)):\n",
    "    ex = pd.read_json(k, lines=True)\n",
    "    ev = pd.read_json(v, lines=True)\n",
    "    m = pd.concat([ex, ev], axis=1)\n",
    "    collection_name = k.split(\"/\")[-2]\n",
    "    df = m.dropna(subset=\"question\").reset_index(drop=True)\n",
    "    # cols = ['id', 'doc_id', 'question_category', 'question_category_desc',\n",
    "    #    'user_category', 'user_category_desc', 'question', 'gold', 'answer',\n",
    "    #    'idx', 'faithfulness', 'relevance',\n",
    "    #    'faithfulness_correct', 'relevance_correct']\n",
    "    # m[cols].to_csv(f'data/eval_collection/{collection_name}/merge-for-eda.csv', index=False)\n",
    "    # df = df.iloc[:27]\n",
    "    # df['relevance_correct'] = (df['relevance'] >= 1).astype(int)\n",
    "    df['passage_id'] = df['passages'].map(lambda x: [i['doc_IDs'][0] for i in x])\n",
    "    df['is_passage_hit'] = df.apply(id_hit2, axis=1)\n",
    "\n",
    "    sumdf = {\n",
    "        # 'faithfulness_correct': (df['faithfulness'].dropna() >= 1).mean(),\n",
    "        # 'relevance_correct': (df['relevance'].dropna() >= 1).mean(),\n",
    "        'faithfulness_correct': (df['faithfulness_correct']).mean(),\n",
    "        'relevance_correct': (df['relevance_correct']).mean(),\n",
    "        \"collection_name\": k.split(\"/\")[-2],\n",
    "        \"hit-rate\": df['is_passage_hit'].sum() / len(df)\n",
    "    }\n",
    "    sumdf_list.append(sumdf)\n",
    "sumdf_list = pd.DataFrame(sumdf_list).set_index(\"collection_name\")\n",
    "sumdf_list = sumdf_list.sort_values(\"faithfulness_correct\")\n",
    "\n",
    "stat_df_list = pd.DataFrame(stat_df_list)\n",
    "sumdf_list\n"
   ]
  },
  {
   "cell_type": "code",
   "execution_count": 141,
   "metadata": {},
   "outputs": [
    {
     "data": {
      "text/plain": [
       "<matplotlib.legend.Legend at 0x2c54db8c0>"
      ]
     },
     "execution_count": 141,
     "metadata": {},
     "output_type": "execute_result"
    },
    {
     "data": {
      "image/png": "[encoded data removed]",
      "text/plain": [
       "<Figure size 600x800 with 1 Axes>"
      ]
     },
     "metadata": {},
     "output_type": "display_data"
    }
   ],
   "source": [
    "ax = sumdf_list.T.plot.barh(figsize=(6, 8))\n",
    "for container in ax.containers:\n",
    "    ax.bar_label(container, fmt=\"%.2g\")\n",
    "\n",
    "ax.set_xlim(0, 1)\n",
    "ax.legend(loc=\"lower center\", bbox_to_anchor=(0.5, -0.3))"
   ]
  },
  {
   "cell_type": "code",
   "execution_count": 120,
   "metadata": {},
   "outputs": [
    {
     "ename": "KeyError",
     "evalue": "'is_search_hit'",
     "output_type": "error",
     "traceback": [
      "\u001b[31m---------------------------------------------------------------------------\u001b[39m",
      "\u001b[31mKeyError\u001b[39m                                  Traceback (most recent call last)",
      "\u001b[36mFile \u001b[39m\u001b[32m/opt/homebrew/Caskroom/miniconda/base/envs/liverag/lib/python3.12/site-packages/pandas/core/indexes/base.py:3805\u001b[39m, in \u001b[36mIndex.get_loc\u001b[39m\u001b[34m(self, key)\u001b[39m\n\u001b[32m   3804\u001b[39m \u001b[38;5;28;01mtry\u001b[39;00m:\n\u001b[32m-> \u001b[39m\u001b[32m3805\u001b[39m     \u001b[38;5;28;01mreturn\u001b[39;00m \u001b[38;5;28;43mself\u001b[39;49m\u001b[43m.\u001b[49m\u001b[43m_engine\u001b[49m\u001b[43m.\u001b[49m\u001b[43mget_loc\u001b[49m\u001b[43m(\u001b[49m\u001b[43mcasted_key\u001b[49m\u001b[43m)\u001b[49m\n\u001b[32m   3806\u001b[39m \u001b[38;5;28;01mexcept\u001b[39;00m \u001b[38;5;167;01mKeyError\u001b[39;00m \u001b[38;5;28;01mas\u001b[39;00m err:\n",
      "\u001b[36mFile \u001b[39m\u001b[32mindex.pyx:167\u001b[39m, in \u001b[36mpandas._libs.index.IndexEngine.get_loc\u001b[39m\u001b[34m()\u001b[39m\n",
      "\u001b[36mFile \u001b[39m\u001b[32mindex.pyx:196\u001b[39m, in \u001b[36mpandas._libs.index.IndexEngine.get_loc\u001b[39m\u001b[34m()\u001b[39m\n",
      "\u001b[36mFile \u001b[39m\u001b[32mpandas/_libs/hashtable_class_helper.pxi:7081\u001b[39m, in \u001b[36mpandas._libs.hashtable.PyObjectHashTable.get_item\u001b[39m\u001b[34m()\u001b[39m\n",
      "\u001b[36mFile \u001b[39m\u001b[32mpandas/_libs/hashtable_class_helper.pxi:7089\u001b[39m, in \u001b[36mpandas._libs.hashtable.PyObjectHashTable.get_item\u001b[39m\u001b[34m()\u001b[39m\n",
      "\u001b[31mKeyError\u001b[39m: 'is_search_hit'",
      "\nThe above exception was the direct cause of the following exception:\n",
      "\u001b[31mKeyError\u001b[39m                                  Traceback (most recent call last)",
      "\u001b[36mCell\u001b[39m\u001b[36m \u001b[39m\u001b[32mIn[120]\u001b[39m\u001b[32m, line 1\u001b[39m\n\u001b[32m----> \u001b[39m\u001b[32m1\u001b[39m \u001b[43mdf\u001b[49m\u001b[43m[\u001b[49m\u001b[33;43m'\u001b[39;49m\u001b[33;43mis_search_hit\u001b[39;49m\u001b[33;43m'\u001b[39;49m\u001b[43m]\u001b[49m.sum() / \u001b[38;5;28mlen\u001b[39m(df), df[\u001b[33m'\u001b[39m\u001b[33mis_passage_hit\u001b[39m\u001b[33m'\u001b[39m].sum() / \u001b[38;5;28mlen\u001b[39m(df)\n\u001b[32m      2\u001b[39m \u001b[38;5;66;03m# ฮธิบายว่าไม่ได้ rewrite อะไรเลย แค่ query ได้ hit rate มากกว่าแหะ ?\u001b[39;00m\n",
      "\u001b[36mFile \u001b[39m\u001b[32m/opt/homebrew/Caskroom/miniconda/base/envs/liverag/lib/python3.12/site-packages/pandas/core/frame.py:4102\u001b[39m, in \u001b[36mDataFrame.__getitem__\u001b[39m\u001b[34m(self, key)\u001b[39m\n\u001b[32m   4100\u001b[39m \u001b[38;5;28;01mif\u001b[39;00m \u001b[38;5;28mself\u001b[39m.columns.nlevels > \u001b[32m1\u001b[39m:\n\u001b[32m   4101\u001b[39m     \u001b[38;5;28;01mreturn\u001b[39;00m \u001b[38;5;28mself\u001b[39m._getitem_multilevel(key)\n\u001b[32m-> \u001b[39m\u001b[32m4102\u001b[39m indexer = \u001b[38;5;28;43mself\u001b[39;49m\u001b[43m.\u001b[49m\u001b[43mcolumns\u001b[49m\u001b[43m.\u001b[49m\u001b[43mget_loc\u001b[49m\u001b[43m(\u001b[49m\u001b[43mkey\u001b[49m\u001b[43m)\u001b[49m\n\u001b[32m   4103\u001b[39m \u001b[38;5;28;01mif\u001b[39;00m is_integer(indexer):\n\u001b[32m   4104\u001b[39m     indexer = [indexer]\n",
      "\u001b[36mFile \u001b[39m\u001b[32m/opt/homebrew/Caskroom/miniconda/base/envs/liverag/lib/python3.12/site-packages/pandas/core/indexes/base.py:3812\u001b[39m, in \u001b[36mIndex.get_loc\u001b[39m\u001b[34m(self, key)\u001b[39m\n\u001b[32m   3807\u001b[39m     \u001b[38;5;28;01mif\u001b[39;00m \u001b[38;5;28misinstance\u001b[39m(casted_key, \u001b[38;5;28mslice\u001b[39m) \u001b[38;5;129;01mor\u001b[39;00m (\n\u001b[32m   3808\u001b[39m         \u001b[38;5;28misinstance\u001b[39m(casted_key, abc.Iterable)\n\u001b[32m   3809\u001b[39m         \u001b[38;5;129;01mand\u001b[39;00m \u001b[38;5;28many\u001b[39m(\u001b[38;5;28misinstance\u001b[39m(x, \u001b[38;5;28mslice\u001b[39m) \u001b[38;5;28;01mfor\u001b[39;00m x \u001b[38;5;129;01min\u001b[39;00m casted_key)\n\u001b[32m   3810\u001b[39m     ):\n\u001b[32m   3811\u001b[39m         \u001b[38;5;28;01mraise\u001b[39;00m InvalidIndexError(key)\n\u001b[32m-> \u001b[39m\u001b[32m3812\u001b[39m     \u001b[38;5;28;01mraise\u001b[39;00m \u001b[38;5;167;01mKeyError\u001b[39;00m(key) \u001b[38;5;28;01mfrom\u001b[39;00m\u001b[38;5;250m \u001b[39m\u001b[34;01merr\u001b[39;00m\n\u001b[32m   3813\u001b[39m \u001b[38;5;28;01mexcept\u001b[39;00m \u001b[38;5;167;01mTypeError\u001b[39;00m:\n\u001b[32m   3814\u001b[39m     \u001b[38;5;66;03m# If we have a listlike key, _check_indexing_error will raise\u001b[39;00m\n\u001b[32m   3815\u001b[39m     \u001b[38;5;66;03m#  InvalidIndexError. Otherwise we fall through and re-raise\u001b[39;00m\n\u001b[32m   3816\u001b[39m     \u001b[38;5;66;03m#  the TypeError.\u001b[39;00m\n\u001b[32m   3817\u001b[39m     \u001b[38;5;28mself\u001b[39m._check_indexing_error(key)\n",
      "\u001b[31mKeyError\u001b[39m: 'is_search_hit'"
     ]
    }
   ],
   "source": [
    "df['is_search_hit'].sum() / len(df), df['is_passage_hit'].sum() / len(df)\n",
    "# ฮธิบายว่าไม่ได้ rewrite อะไรเลย แค่ query ได้ hit rate มากกว่าแหะ ?"
   ]
  },
  {
   "cell_type": "code",
   "execution_count": 77,
   "metadata": {},
   "outputs": [
    {
     "data": {
      "text/plain": [
       "True"
      ]
     },
     "execution_count": 77,
     "metadata": {},
     "output_type": "execute_result"
    }
   ],
   "source": [
    "any([True, False, False, False, False]\n",
    ")"
   ]
  },
  {
   "cell_type": "code",
   "execution_count": null,
   "metadata": {},
   "outputs": [],
   "source": []
  },
  {
   "cell_type": "markdown",
   "metadata": {},
   "source": [
    "# TEST"
   ]
  },
  {
   "cell_type": "code",
   "execution_count": 47,
   "metadata": {},
   "outputs": [],
   "source": [
    "query = \"Can I use a drone to take pictures of Crazy Horse Memorial?\"\n",
    "r = pinecone_utils.query_pinecone(query, top_k=10)"
   ]
  },
  {
   "cell_type": "code",
   "execution_count": 57,
   "metadata": {},
   "outputs": [
    {
     "name": "stdout",
     "output_type": "stream",
     "text": [
      "In order to film or take photos at Crazy Horse Memorial®, both interior and exterior locations, for any commercial purposes, companies/individuals must first obtain written approval from ©Crazy Horse Memorial Foundation. As the Mountain, statues, museum items, and other exterior and interior items are copyrighted. Due to the high volume of requests for filming and photography at the Memorial, all requests must be submitted in writing at least 10 days prior to the shoot. - Written permission must be obtained in advance for taking photographs/filming in or around the Mountain, buildings, complex, and grounds. To allow time for questions and any necessary further clarification, please apply for permission in writing at least 10 working days before the scheduled date of photography. Photos for news reports and purely documentary purposes can usually be approved more quickly. - Where permission is granted, the applicant will receive written confirmation. - Use of drones /mini-copters is strictly prohibited. - Photos and filming for private use does not require written permission and is allowed unless this conflicts with ©Crazy Horse Memorial Foundation policies or copyright uses. - Use of any private photo/filming material for further purposes is expressly prohibited. - Photography and filming may only be done in approved areas and locations. - If permission is granted, it is on condition that the all items photographed or filmed are treated with care and respect. Permission will not be granted in the following cases:\n",
      "- If the photography/filming entails any risk to any persons or property. - If the photography/filming would hinder the work or maintenance of the property or unjustifiably prevent access for visitors. - If the photos/film and their use are not within the polices of ©Crazy Horse Memorial Foundation. To submit your request, e-mail our Public Relations Department attention email@example.com. Your request should detail date and time of shoot, crew size, number of vehicles entering the complex, desired location(s) for filming/photography,start/end times and list of equipment to be used during shoot. Also, include how the photos/film will be used.\n"
     ]
    }
   ],
   "source": [
    "print(r['matches'][0]['metadata']['text'])"
   ]
  },
  {
   "cell_type": "code",
   "execution_count": null,
   "metadata": {},
   "outputs": [],
   "source": [
    "print(r['matches'][0]['metadata']['text'])"
   ]
  },
  {
   "cell_type": "code",
   "execution_count": null,
   "metadata": {},
   "outputs": [],
   "source": []
  },
  {
   "cell_type": "code",
   "execution_count": 12,
   "metadata": {},
   "outputs": [
    {
     "data": {
      "text/plain": [
       "['Software',\n",
       " 'Transportation',\n",
       " 'Education & Jobs',\n",
       " 'Fashion & Beauty',\n",
       " 'Health',\n",
       " 'Crime & Law',\n",
       " 'Entertainment',\n",
       " 'History',\n",
       " 'Software Dev.',\n",
       " 'Sports & Fitness',\n",
       " 'Home & Hobbies',\n",
       " 'Science & Tech.',\n",
       " 'Finance & Business',\n",
       " 'Food & Dining',\n",
       " 'Games',\n",
       " 'Hardware',\n",
       " 'Politics',\n",
       " 'Social Life',\n",
       " 'Religion',\n",
       " 'Industrial',\n",
       " 'Literature',\n",
       " 'Travel',\n",
       " 'Adult',\n",
       " 'Art & Design']"
      ]
     },
     "execution_count": 12,
     "metadata": {},
     "output_type": "execute_result"
    }
   ],
   "source": [
    "stats = index.describe_index_stats()\n",
    "ns = list(stats.get(\"namespaces\", {}).keys())\n",
    "ns"
   ]
  },
  {
   "cell_type": "code",
   "execution_count": 45,
   "metadata": {},
   "outputs": [
    {
     "data": {
      "text/plain": [
       "{'date': '2022-05-26T17:34:10Z',\n",
       " 'dump': 'CC-MAIN-2022-21',\n",
       " 'file_path': 's3://commoncrawl/crawl-data/CC-MAIN-2022-21/segments/1652662619221.81/warc/CC-MAIN-20220526162749-20220526192749-00036.warc.gz',\n",
       " 'format_classify': 'Legal Notices',\n",
       " 'language': 'en',\n",
       " 'language_score': 0.880591630935669,\n",
       " 'text': 'In order to film or take photos at Crazy Horse Memorial®, both interior and exterior locations, for any commercial purposes, companies/individuals must first obtain written approval from ©Crazy Horse Memorial Foundation. As the Mountain, statues, museum items, and other exterior and interior items are copyrighted. Due to the high volume of requests for filming and photography at the Memorial, all requests must be submitted in writing at least 10 days prior to the shoot. - Written permission must be obtained in advance for taking photographs/filming in or around the Mountain, buildings, complex, and grounds. To allow time for questions and any necessary further clarification, please apply for permission in writing at least 10 working days before the scheduled date of photography. Photos for news reports and purely documentary purposes can usually be approved more quickly. - Where permission is granted, the applicant will receive written confirmation. - Use of drones /mini-copters is strictly prohibited. - Photos and filming for private use does not require written permission and is allowed unless this conflicts with ©Crazy Horse Memorial Foundation policies or copyright uses. - Use of any private photo/filming material for further purposes is expressly prohibited. - Photography and filming may only be done in approved areas and locations. - If permission is granted, it is on condition that the all items photographed or filmed are treated with care and respect. Permission will not be granted in the following cases:\\n- If the photography/filming entails any risk to any persons or property. - If the photography/filming would hinder the work or maintenance of the property or unjustifiably prevent access for visitors. - If the photos/film and their use are not within the polices of ©Crazy Horse Memorial Foundation. To submit your request, e-mail our Public Relations Department attention email@example.com. Your request should detail date and time of shoot, crew size, number of vehicles entering the complex, desired location(s) for filming/photography,start/end times and list of equipment to be used during shoot. Also, include how the photos/film will be used.',\n",
       " 'token_count': 439.0,\n",
       " 'topic_classify': 'History',\n",
       " 'url': 'https://crazyhorsememorial.org/media-room/filming-photography'}"
      ]
     },
     "execution_count": 45,
     "metadata": {},
     "output_type": "execute_result"
    }
   ],
   "source": [
    "fe = index.fetch(ids=[\"doc-<urn:uuid:97aa5dda-1935-42ff-9a2c-1f6fb40f49e2>::chunk-1\"], namespace='History')"
   ]
  },
  {
   "cell_type": "code",
   "execution_count": 46,
   "metadata": {},
   "outputs": [
    {
     "data": {
      "text/plain": [
       "{'date': '2022-05-26T17:34:10Z',\n",
       " 'dump': 'CC-MAIN-2022-21',\n",
       " 'file_path': 's3://commoncrawl/crawl-data/CC-MAIN-2022-21/segments/1652662619221.81/warc/CC-MAIN-20220526162749-20220526192749-00036.warc.gz',\n",
       " 'format_classify': 'Legal Notices',\n",
       " 'language': 'en',\n",
       " 'language_score': 0.880591630935669,\n",
       " 'text': 'In order to film or take photos at Crazy Horse Memorial®, both interior and exterior locations, for any commercial purposes, companies/individuals must first obtain written approval from ©Crazy Horse Memorial Foundation. As the Mountain, statues, museum items, and other exterior and interior items are copyrighted. Due to the high volume of requests for filming and photography at the Memorial, all requests must be submitted in writing at least 10 days prior to the shoot. - Written permission must be obtained in advance for taking photographs/filming in or around the Mountain, buildings, complex, and grounds. To allow time for questions and any necessary further clarification, please apply for permission in writing at least 10 working days before the scheduled date of photography. Photos for news reports and purely documentary purposes can usually be approved more quickly. - Where permission is granted, the applicant will receive written confirmation. - Use of drones /mini-copters is strictly prohibited. - Photos and filming for private use does not require written permission and is allowed unless this conflicts with ©Crazy Horse Memorial Foundation policies or copyright uses. - Use of any private photo/filming material for further purposes is expressly prohibited. - Photography and filming may only be done in approved areas and locations. - If permission is granted, it is on condition that the all items photographed or filmed are treated with care and respect. Permission will not be granted in the following cases:\\n- If the photography/filming entails any risk to any persons or property. - If the photography/filming would hinder the work or maintenance of the property or unjustifiably prevent access for visitors. - If the photos/film and their use are not within the polices of ©Crazy Horse Memorial Foundation. To submit your request, e-mail our Public Relations Department attention email@example.com. Your request should detail date and time of shoot, crew size, number of vehicles entering the complex, desired location(s) for filming/photography,start/end times and list of equipment to be used during shoot. Also, include how the photos/film will be used.',\n",
       " 'token_count': 439.0,\n",
       " 'topic_classify': 'History',\n",
       " 'url': 'https://crazyhorsememorial.org/media-room/filming-photography'}"
      ]
     },
     "execution_count": 46,
     "metadata": {},
     "output_type": "execute_result"
    }
   ],
   "source": [
    "list(fe['vectors'].values())[0]['metadata']\n"
   ]
  },
  {
   "cell_type": "code",
   "execution_count": null,
   "metadata": {},
   "outputs": [],
   "source": []
  }
 ],
 "metadata": {
  "kernelspec": {
   "display_name": "liverag",
   "language": "python",
   "name": "python3"
  },
  "language_info": {
   "codemirror_mode": {
    "name": "ipython",
    "version": 3
   },
   "file_extension": ".py",
   "mimetype": "text/x-python",
   "name": "python",
   "nbconvert_exporter": "python",
   "pygments_lexer": "ipython3",
   "version": "3.12.9"
  }
 },
 "nbformat": 4,
 "nbformat_minor": 2
}
